{
 "cells": [
  {
   "cell_type": "code",
   "execution_count": 1,
   "id": "66a99bbf",
   "metadata": {},
   "outputs": [],
   "source": [
    "import requests\n",
    "from bs4 import BeautifulSoup"
   ]
  },
  {
   "cell_type": "code",
   "execution_count": 37,
   "id": "f1ecc44f",
   "metadata": {},
   "outputs": [],
   "source": [
    "def get_clinic_name(clinic_id):\n",
    "    url = f'https://{clinic_id}.portal.athenahealth.com/'\n",
    "    response = requests.get(url)\n",
    "    html = response.text\n",
    "    soup = BeautifulSoup(html, 'html.parser')\n",
    "    div = soup.find('div', {'id':'email-login-page'})\n",
    "    clinic_name = div.find('h1').text[11:].split('Patient')[0].strip().capitalize()\n",
    "    if clinic_name == 'The':\n",
    "        pass\n",
    "    else:\n",
    "        return clinic_name"
   ]
  },
  {
   "cell_type": "code",
   "execution_count": 39,
   "id": "81bdf888",
   "metadata": {},
   "outputs": [
    {
     "name": "stdout",
     "output_type": "stream",
     "text": [
      "None\n"
     ]
    }
   ],
   "source": [
    "print(get_clinic_name(12703))"
   ]
  },
  {
   "cell_type": "code",
   "execution_count": 33,
   "id": "9238e2a9",
   "metadata": {},
   "outputs": [],
   "source": [
    "start = 12690\n",
    "end = 12710"
   ]
  },
  {
   "cell_type": "code",
   "execution_count": 40,
   "id": "459c870b",
   "metadata": {},
   "outputs": [
    {
     "name": "stdout",
     "output_type": "stream",
     "text": [
      "12691\n",
      "12693\n",
      "12694\n",
      "12695\n",
      "12696\n",
      "12697\n",
      "12702\n",
      "12704\n",
      "12705\n",
      "12706\n",
      "12707\n",
      "12708\n",
      "12709\n"
     ]
    }
   ],
   "source": [
    "clinic_list = []\n",
    "\n",
    "for clinic_id in range(start, end+1):\n",
    "    try:\n",
    "        data_dict = {}\n",
    "        data_dict['clinic_id'] = clinic_id\n",
    "        data_dict['clinic_name'] = get_clinic_name(clinic_id)\n",
    "        if data_dict['clinic_name'] == None:\n",
    "            continue\n",
    "        else:\n",
    "            clinic_list.append(data_dict)\n",
    "            print(clinic_id)\n",
    "    except:\n",
    "        pass\n"
   ]
  },
  {
   "cell_type": "code",
   "execution_count": 41,
   "id": "64f4513a",
   "metadata": {},
   "outputs": [
    {
     "data": {
      "text/plain": [
       "[{'clinic_id': 12691, 'clinic_name': 'The ergomedica'},\n",
       " {'clinic_id': 12693, 'clinic_name': 'The altamonte family practice'},\n",
       " {'clinic_id': 12694, 'clinic_name': 'The open health care clinic'},\n",
       " {'clinic_id': 12695, 'clinic_name': 'The dr. richard handelsman'},\n",
       " {'clinic_id': 12696,\n",
       "  'clinic_name': \"The women's centerforintegrative health\"},\n",
       " {'clinic_id': 12697, 'clinic_name': 'The eastern urological associates'},\n",
       " {'clinic_id': 12702, 'clinic_name': 'The chand rohatgi md'},\n",
       " {'clinic_id': 12704, 'clinic_name': 'The volunteer healthcare clinic'},\n",
       " {'clinic_id': 12705, 'clinic_name': 'The christ clinic'},\n",
       " {'clinic_id': 12706, 'clinic_name': 'The olga joukovski, md, pa'},\n",
       " {'clinic_id': 12707, 'clinic_name': 'The restore health clinic'},\n",
       " {'clinic_id': 12708,\n",
       "  'clinic_name': 'The stuart l. silverman, m.d., a medical corporation'},\n",
       " {'clinic_id': 12709, 'clinic_name': 'The george e. weems clinics'}]"
      ]
     },
     "execution_count": 41,
     "metadata": {},
     "output_type": "execute_result"
    }
   ],
   "source": [
    "clinic_list"
   ]
  },
  {
   "cell_type": "code",
   "execution_count": 42,
   "id": "b5b51f32",
   "metadata": {},
   "outputs": [],
   "source": [
    "import pandas as pd"
   ]
  },
  {
   "cell_type": "code",
   "execution_count": 43,
   "id": "a6f8a00b",
   "metadata": {},
   "outputs": [],
   "source": [
    "df = pd.DataFrame(clinic_list)"
   ]
  },
  {
   "cell_type": "code",
   "execution_count": 44,
   "id": "2e3d5be2",
   "metadata": {},
   "outputs": [],
   "source": [
    "df.to_csv('Clinic_data.csv', index=False)"
   ]
  },
  {
   "cell_type": "code",
   "execution_count": null,
   "id": "32583100",
   "metadata": {},
   "outputs": [],
   "source": []
  }
 ],
 "metadata": {
  "kernelspec": {
   "display_name": "Python 3 (ipykernel)",
   "language": "python",
   "name": "python3"
  },
  "language_info": {
   "codemirror_mode": {
    "name": "ipython",
    "version": 3
   },
   "file_extension": ".py",
   "mimetype": "text/x-python",
   "name": "python",
   "nbconvert_exporter": "python",
   "pygments_lexer": "ipython3",
   "version": "3.7.12"
  }
 },
 "nbformat": 4,
 "nbformat_minor": 5
}
